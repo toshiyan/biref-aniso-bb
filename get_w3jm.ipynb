{
 "cells": [
  {
   "cell_type": "code",
   "execution_count": 1,
   "id": "e8511244-4872-4601-8992-744de88dd088",
   "metadata": {},
   "outputs": [],
   "source": [
    "# Julia code for computing Wigner 3jm\n",
    "using WignerFamilies\n",
    "using NPZ"
   ]
  },
  {
   "cell_type": "code",
   "execution_count": 2,
   "id": "c4a6daf1-9f33-466d-b1fa-5d15f77c7d5b",
   "metadata": {
    "tags": []
   },
   "outputs": [],
   "source": [
    "#ttps://github.com/xzackli/WignerFamilies.jl"
   ]
  },
  {
   "cell_type": "code",
   "execution_count": 3,
   "id": "f512ccf9-f358-47cc-a6fb-a9ca5efecb6b",
   "metadata": {},
   "outputs": [
    {
     "ename": "KeyError",
     "evalue": "KeyError: key \"usage_request\" not found",
     "output_type": "error",
     "traceback": [
      "KERNEL EXCEPTION",
      "KeyError: key \"usage_request\" not found",
      "",
      "Stacktrace:",
      " [1] getindex(h::Dict{String, Function}, key::String)",
      "   @ Base ./dict.jl:481",
      " [2] eventloop(socket::ZMQ.Socket)",
      "   @ IJulia ~/.julia/packages/IJulia/e8kqU/src/eventloop.jl:8",
      " [3] (::IJulia.var\"#14#17\")()",
      "   @ IJulia ./task.jl:423"
     ]
    },
    {
     "ename": "KeyError",
     "evalue": "KeyError: key \"usage_request\" not found",
     "output_type": "error",
     "traceback": [
      "KERNEL EXCEPTION",
      "KeyError: key \"usage_request\" not found",
      "",
      "Stacktrace:",
      " [1] getindex(h::Dict{String, Function}, key::String)",
      "   @ Base ./dict.jl:481",
      " [2] eventloop(socket::ZMQ.Socket)",
      "   @ IJulia ~/.julia/packages/IJulia/e8kqU/src/eventloop.jl:8",
      " [3] (::IJulia.var\"#14#17\")()",
      "   @ IJulia ./task.jl:423"
     ]
    }
   ],
   "source": [
    "lmax = 6000\n",
    "Lmax = 1000\n",
    "for lb in 1:lmax\n",
    "    wig_array = zeros(Float64,Lmax,Lmax+lmax)  # size of L, le\n",
    "    for L in 1:Lmax\n",
    "        w3j = wigner3j_f(lb, L, 2, 0) \n",
    "        wig_array[L,1:length(w3j)] = w3j\n",
    "    end\n",
    "    npzwrite(\"/global/homes/t/toshiyan/scratch/rotation/wig3j_array_lb\"*string(lb,pad=4)*\".npz\",wig_array)\n",
    "end"
   ]
  },
  {
   "cell_type": "code",
   "execution_count": null,
   "id": "344d4261-175b-4d9d-b817-e1f67b1c9865",
   "metadata": {},
   "outputs": [],
   "source": []
  }
 ],
 "metadata": {
  "kernelspec": {
   "display_name": "Julia 1.7.1",
   "language": "julia",
   "name": "julia-1.7"
  },
  "language_info": {
   "file_extension": ".jl",
   "mimetype": "application/julia",
   "name": "julia",
   "version": "1.7.1"
  }
 },
 "nbformat": 4,
 "nbformat_minor": 5
}
