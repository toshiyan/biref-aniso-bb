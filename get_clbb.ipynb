{
 "cells": [
  {
   "cell_type": "code",
   "execution_count": 2,
   "metadata": {},
   "outputs": [],
   "source": [
    "import numpy as np, pickle, local"
   ]
  },
  {
   "cell_type": "code",
   "execution_count": 7,
   "metadata": {
    "tags": []
   },
   "outputs": [
    {
     "data": {
      "text/plain": [
       "<module 'local' from '/global/u1/t/toshiyan/Work/Ongoing/rotation/biref-aniso-bb/local.py'>"
      ]
     },
     "execution_count": 7,
     "metadata": {},
     "output_type": "execute_result"
    }
   ],
   "source": [
    "import importlib\n",
    "importlib.reload(local)"
   ]
  },
  {
   "cell_type": "code",
   "execution_count": 4,
   "metadata": {},
   "outputs": [],
   "source": [
    "lbmin, lbmax = 2, 1000\n",
    "lemin, lemax = 2, 5000\n",
    "le = np.linspace(2,lemax,lemax-1)"
   ]
  },
  {
   "cell_type": "code",
   "execution_count": 5,
   "metadata": {
    "tags": []
   },
   "outputs": [],
   "source": [
    "kn = 100\n",
    "ks = np.logspace(-5, 0, num=kn)\n",
    "Lmin, Lmax = 1, 100\n",
    "Ls = np.linspace(0,Lmax,Lmax+1,dtype=int)"
   ]
  },
  {
   "cell_type": "code",
   "execution_count": 6,
   "metadata": {
    "tags": []
   },
   "outputs": [],
   "source": [
    "lbs = np.concatenate( ( np.linspace(2,41,20,dtype=int), np.linspace(42,lbmax,90,dtype=int), np.linspace(1050,4000,100,dtype=int) ) )"
   ]
  },
  {
   "cell_type": "code",
   "execution_count": 8,
   "metadata": {},
   "outputs": [
    {
     "name": "stderr",
     "output_type": "stream",
     "text": [
      "100%|██████████| 100/100 [03:35<00:00,  2.15s/it]\n"
     ]
    }
   ],
   "source": [
    "calC = local.compute_calC(ks,Lmin=Lmin,Lmax=Lmax,lemin=lemin,lemax=lemax,aps='aps')"
   ]
  },
  {
   "cell_type": "code",
   "execution_count": 9,
   "metadata": {
    "tags": []
   },
   "outputs": [
    {
     "name": "stderr",
     "output_type": "stream",
     "text": [
      "  0%|          | 0/210 [00:00<?, ?it/s]/global/u1/t/toshiyan/Work/Ongoing/rotation/biref-aniso-bb/local.py:176: VisibleDeprecationWarning: Creating an ndarray from ragged nested sequences (which is a list-or-tuple of lists-or-tuples-or ndarrays with different lengths or shapes) is deprecated. If you meant to do this, you must specify 'dtype=object' when creating the ndarray.\n",
      "  le = np.array( [ np.arange(max([np.abs(L-lb),lemin]),min([L+lb,lemax])+1) for L in range(Lmax+1) ] )\n",
      "100%|██████████| 210/210 [00:21<00:00,  9.63it/s]\n"
     ]
    }
   ],
   "source": [
    "clBB = local.compute_clbb(lbs,calC,Lmin=Lmin,Lmax=Lmax,lemin=lemin,lemax=lemax)"
   ]
  },
  {
   "cell_type": "code",
   "execution_count": 10,
   "metadata": {
    "tags": []
   },
   "outputs": [],
   "source": [
    "np.savetxt('data/clbb.dat',np.array((lbs,clBB)).T)\n",
    "#np.savetxt('data/clbb_unit.dat',np.array((lbs,clBB)).T)"
   ]
  },
  {
   "cell_type": "code",
   "execution_count": null,
   "metadata": {},
   "outputs": [],
   "source": []
  }
 ],
 "metadata": {
  "kernelspec": {
   "display_name": "py4so",
   "language": "python",
   "name": "py4so"
  },
  "language_info": {
   "codemirror_mode": {
    "name": "ipython",
    "version": 3
   },
   "file_extension": ".py",
   "mimetype": "text/x-python",
   "name": "python",
   "nbconvert_exporter": "python",
   "pygments_lexer": "ipython3",
   "version": "3.7.2"
  }
 },
 "nbformat": 4,
 "nbformat_minor": 4
}
